{
 "cells": [
  {
   "cell_type": "code",
   "execution_count": 67,
   "metadata": {},
   "outputs": [],
   "source": [
    "from aocd.models import Puzzle\n",
    "\n",
    "puzzle_input = Puzzle(2022,8).input_data.split(\"\\n\")\n",
    "test_input = [\n",
    "\t\"30373\",\n",
    "\t\"25512\",\n",
    "\t\"65332\",\n",
    "\t\"33549\",\n",
    "\t\"35390\",\n",
    "]"
   ]
  },
  {
   "cell_type": "code",
   "execution_count": 68,
   "metadata": {},
   "outputs": [],
   "source": [
    "def get_vertical_neighbors_heights(input_list: list, column: str) -> list:\n",
    "\tresult =  []\n",
    "\tfor row in input_list:\n",
    "\t\tresult.append(int(row[column]))\n",
    "\treturn result"
   ]
  },
  {
   "cell_type": "code",
   "execution_count": 69,
   "metadata": {},
   "outputs": [],
   "source": [
    "def is_visible(current: int, left: list, right: list, top: list, bottom: list) -> bool:\n",
    "\tif current > max(left) or current > max(right) or current > max(top) or current > max(bottom):\n",
    "\t\treturn True\n",
    "\treturn False\n"
   ]
  },
  {
   "cell_type": "code",
   "execution_count": 83,
   "metadata": {},
   "outputs": [],
   "source": [
    "def get_scenic_score(current: int, left: list, right: list, top: list, bottom: list) -> int:\n",
    "\t# left and top need to be reversed, since you're looking \"outward\" from the current tree\n",
    "\tleft = left[::-1]\n",
    "\ttop = top[::-1]\n",
    "\n",
    "\t# the inner trees can always see at least one tree to either side\n",
    "\tscore_left = 0\n",
    "\tscore_right = 0\n",
    "\tscore_top = 0\n",
    "\tscore_bottom = 0\n",
    "\n",
    "\tfor tree in left:\n",
    "\t\tscore_left += 1\n",
    "\t\tif tree >= current: break\n",
    "\n",
    "\tfor tree in right:\n",
    "\t\tscore_right += 1\n",
    "\t\tif tree >= current: break\n",
    "\n",
    "\tfor tree in top:\n",
    "\t\tscore_top += 1\n",
    "\t\tif tree >= current: break\n",
    "\n",
    "\tfor tree in bottom:\n",
    "\t\tscore_bottom += 1\n",
    "\t\tif tree >= current: break\n",
    "\n",
    "\tresult = score_left * score_right * score_top * score_bottom\n",
    "\treturn result"
   ]
  },
  {
   "cell_type": "code",
   "execution_count": 84,
   "metadata": {},
   "outputs": [],
   "source": [
    "# part 1\n",
    "def calculate_trees(input_list: list, part) -> int:\n",
    "\n",
    "\t# part 1: calculate all visible trees\n",
    "\t# part 2: calculate max scenic score possible for any tree\n",
    "\n",
    "\tscore = 0\n",
    "\n",
    "\tfor row in range(1, len(input_list)-1):\n",
    "\t\tfor col in range(1, len(input_list[0])-1):\n",
    "\t\t\tcurrent_tree_height = int(input_list[row][col])\n",
    "\n",
    "\t\t\thorizontal_neighbors_heights = [int(x) for x in input_list[row]]\n",
    "\t\t\tleft_neightbors_heights = horizontal_neighbors_heights[:col]\n",
    "\t\t\tright_neighbors_heights = horizontal_neighbors_heights[col+1:]\n",
    "\n",
    "\t\t\tvertical_neighbors_heights = get_vertical_neighbors_heights(input_list, col)\n",
    "\t\t\ttop_neighbors_heights = vertical_neighbors_heights[:row]\n",
    "\t\t\tbottom_neighbors_heights = vertical_neighbors_heights[row+1:]\n",
    "\n",
    "\t\t\tif part == 1:\n",
    "\t\t\t\tscore = score + 1 if is_visible(\n",
    "\t\t\t\t\tcurrent_tree_height,\n",
    "\t\t\t\t\tleft_neightbors_heights,\n",
    "\t\t\t\t\tright_neighbors_heights,\n",
    "\t\t\t\t\ttop_neighbors_heights,\n",
    "\t\t\t\t\tbottom_neighbors_heights) else score\n",
    "\n",
    "\t\t\tif part == 2:\n",
    "\t\t\t\tscore = max(\n",
    "\t\t\t\t\tscore,\n",
    "\t\t\t\t\tget_scenic_score(\n",
    "\t\t\t\t\t\tcurrent_tree_height,\n",
    "\t\t\t\t\t\tleft_neightbors_heights,\n",
    "\t\t\t\t\t\tright_neighbors_heights,\n",
    "\t\t\t\t\t\ttop_neighbors_heights,\n",
    "\t\t\t\t\t\tbottom_neighbors_heights))\n",
    "\n",
    "\tif part == 1:\n",
    "\t\t# trees on the edge are visible by default\n",
    "\t\tnum_edge_trees = len(input_list[0]) * 2 + (len(input_list) - 2) * 2\n",
    "\t\treturn score + num_edge_trees\n",
    "\n",
    "\tif part == 2: return score"
   ]
  },
  {
   "cell_type": "code",
   "execution_count": 85,
   "metadata": {},
   "outputs": [
    {
     "data": {
      "text/plain": [
       "1776"
      ]
     },
     "execution_count": 85,
     "metadata": {},
     "output_type": "execute_result"
    }
   ],
   "source": [
    "calculate_trees(puzzle_input, 1)"
   ]
  },
  {
   "cell_type": "code",
   "execution_count": 86,
   "metadata": {},
   "outputs": [
    {
     "data": {
      "text/plain": [
       "234416"
      ]
     },
     "execution_count": 86,
     "metadata": {},
     "output_type": "execute_result"
    }
   ],
   "source": [
    "calculate_trees(puzzle_input, 2)"
   ]
  }
 ],
 "metadata": {
  "kernelspec": {
   "display_name": "Python 3.10.8 64-bit",
   "language": "python",
   "name": "python3"
  },
  "language_info": {
   "codemirror_mode": {
    "name": "ipython",
    "version": 3
   },
   "file_extension": ".py",
   "mimetype": "text/x-python",
   "name": "python",
   "nbconvert_exporter": "python",
   "pygments_lexer": "ipython3",
   "version": "3.10.8"
  },
  "orig_nbformat": 4,
  "vscode": {
   "interpreter": {
    "hash": "e7370f93d1d0cde622a1f8e1c04877d8463912d04d973331ad4851f04de6915a"
   }
  }
 },
 "nbformat": 4,
 "nbformat_minor": 2
}
