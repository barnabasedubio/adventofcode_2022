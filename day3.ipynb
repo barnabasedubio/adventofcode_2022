{
 "cells": [
  {
   "cell_type": "code",
   "execution_count": 91,
   "metadata": {},
   "outputs": [],
   "source": [
    "from aocd.models import Puzzle\n",
    "\n",
    "puzzle_input = Puzzle(2022,3).input_data.split(\"\\n\")\n",
    "test_input = [\n",
    "\t\"vJrwpWtwJgWrhcsFMMfFFhFp\",\n",
    "\t\"jqHRNqRjqzjGDLGLrsFMfFZSrLrFZsSL\",\n",
    "\t\"PmmdzqPrVvPwwTWBwg\",\n",
    "\t\"wMqvLMZHhHMvwLHjbvcjnnSBnvTQFn\",\n",
    "\t\"ttgJtRGJQctTZtZT\",\n",
    "\t\"CrZsJsPPZsGzwwsLwLmpwMDw\"\n",
    "]"
   ]
  },
  {
   "cell_type": "code",
   "execution_count": 92,
   "metadata": {},
   "outputs": [],
   "source": [
    "def get_ord(letter):\n",
    "\tif letter == letter.lower():\n",
    "\t\treturn ord(letter) - 96\n",
    "\tif letter == letter.upper():\n",
    "\t\treturn ord(letter) - 38\n",
    "\n",
    "def intersection(lst1, lst2):\n",
    "\treturn list(set([item for item in lst1 if item in lst2]))"
   ]
  },
  {
   "cell_type": "code",
   "execution_count": 93,
   "metadata": {},
   "outputs": [
    {
     "data": {
      "text/plain": [
       "7878"
      ]
     },
     "execution_count": 93,
     "metadata": {},
     "output_type": "execute_result"
    }
   ],
   "source": [
    "# part 1\n",
    "def sum_ords(input_list):\n",
    "\ttotal = []\n",
    "\tfor item in input_list:\n",
    "\t\tleft = item[:int(len(item)/2)]\n",
    "\t\tright = item[int(len(item)/2):]\n",
    "\t\ttotal += intersection(left, right)\n",
    "\n",
    "\treturn (sum([get_ord(letter) for letter in total]))\n",
    "\n",
    "sum_ords(puzzle_input)"
   ]
  },
  {
   "cell_type": "code",
   "execution_count": 94,
   "metadata": {},
   "outputs": [
    {
     "data": {
      "text/plain": [
       "2760"
      ]
     },
     "execution_count": 94,
     "metadata": {},
     "output_type": "execute_result"
    }
   ],
   "source": [
    "# part 2\n",
    "def sum_badges(input_list):\n",
    "\ttotal = 0\n",
    "\tfor i in range(0, len(input_list), 3):\n",
    "\t\tgroup = input_list[i:i+3]\n",
    "\t\tcommon = intersection(group[0], group[1])\n",
    "\t\tbadge = intersection(common, group[2])\n",
    "\t\ttotal += get_ord(badge[0])\n",
    "\treturn total\n",
    "\t\n",
    "\n",
    "sum_badges(puzzle_input)"
   ]
  },
  {
   "cell_type": "code",
   "execution_count": null,
   "metadata": {},
   "outputs": [],
   "source": []
  }
 ],
 "metadata": {
  "kernelspec": {
   "display_name": "Python 3.10.8 64-bit",
   "language": "python",
   "name": "python3"
  },
  "language_info": {
   "codemirror_mode": {
    "name": "ipython",
    "version": 3
   },
   "file_extension": ".py",
   "mimetype": "text/x-python",
   "name": "python",
   "nbconvert_exporter": "python",
   "pygments_lexer": "ipython3",
   "version": "3.10.8"
  },
  "orig_nbformat": 4,
  "vscode": {
   "interpreter": {
    "hash": "e7370f93d1d0cde622a1f8e1c04877d8463912d04d973331ad4851f04de6915a"
   }
  }
 },
 "nbformat": 4,
 "nbformat_minor": 2
}
