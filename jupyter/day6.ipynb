{
 "cells": [
  {
   "cell_type": "code",
   "execution_count": 2,
   "metadata": {},
   "outputs": [],
   "source": [
    "from aocd.models import Puzzle\n",
    "\n",
    "puzzle_input = Puzzle(2022,6).input_data\n",
    "test_input_1 = \"mjqjpqmgbljsphdztnvjfqwrcgsmlb\"\n",
    "test_input_2 = \"bvwbjplbgvbhsrlpgdmjqwftvncz\"\n",
    "test_input_3 = \"nppdvjthqldpwncqszvftbrmjlhg\"\n",
    "test_input_4 = \"nznrnfrfntjfmvfwmzdfjlvtqnbhcprsg\"\n",
    "test_input_5 = \"zcfzfwzzqfrljwzlrfnpqdbhtmscgvjw\""
   ]
  },
  {
   "cell_type": "code",
   "execution_count": 16,
   "metadata": {},
   "outputs": [],
   "source": [
    "def find_marker(buffer: str, end: int) -> int:\n",
    "\tcurrent_start = 0\n",
    "\tcurrent_end = end \n",
    "\tcurrent_buffer = buffer[current_start:current_end]\n",
    "\twhile len(current_buffer) != len(set(current_buffer)):\n",
    "\t\tcurrent_start += 1\n",
    "\t\tcurrent_end += 1\n",
    "\t\tcurrent_buffer = buffer[current_start:current_end]\n",
    "\n",
    "\treturn current_end\n"
   ]
  },
  {
   "cell_type": "code",
   "execution_count": 19,
   "metadata": {},
   "outputs": [
    {
     "name": "stdout",
     "output_type": "stream",
     "text": [
      "1235\n",
      "3051\n"
     ]
    }
   ],
   "source": [
    "# part 1\n",
    "print(find_marker(puzzle_input, 4))\n",
    "# part 2\n",
    "print(find_marker(puzzle_input, 14))"
   ]
  }
 ],
 "metadata": {
  "kernelspec": {
   "display_name": "Python 3.10.8 64-bit",
   "language": "python",
   "name": "python3"
  },
  "language_info": {
   "codemirror_mode": {
    "name": "ipython",
    "version": 3
   },
   "file_extension": ".py",
   "mimetype": "text/x-python",
   "name": "python",
   "nbconvert_exporter": "python",
   "pygments_lexer": "ipython3",
   "version": "3.10.8"
  },
  "orig_nbformat": 4,
  "vscode": {
   "interpreter": {
    "hash": "e7370f93d1d0cde622a1f8e1c04877d8463912d04d973331ad4851f04de6915a"
   }
  }
 },
 "nbformat": 4,
 "nbformat_minor": 2
}
