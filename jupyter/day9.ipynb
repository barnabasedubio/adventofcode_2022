{
 "cells": [
  {
   "cell_type": "code",
   "execution_count": 54,
   "metadata": {},
   "outputs": [],
   "source": [
    "from aocd.models import Puzzle\n",
    "import math\n",
    "\n",
    "puzzle_input = Puzzle(2022,9).input_data.split(\"\\n\")\n",
    "test_input = [\n",
    "\t\"R 4\",\n",
    "\t\"U 4\",\n",
    "\t\"L 3\",\n",
    "\t\"D 1\",\n",
    "\t\"R 4\",\n",
    "\t\"D 1\",\n",
    "\t\"L 5\",\n",
    "\t\"R 2\",\n",
    "]\n",
    "test_input_part_2 = [\n",
    "\t\"R 5\",\n",
    "\t\"U 8\",\n",
    "\t\"L 8\",\n",
    "\t\"D 3\",\n",
    "\t\"R 17\",\n",
    "\t\"D 10\",\n",
    "\t\"L 25\",\n",
    "\t\"U 20\",\n",
    "]"
   ]
  },
  {
   "cell_type": "code",
   "execution_count": 2,
   "metadata": {},
   "outputs": [],
   "source": [
    "def is_adjacent(head_position: tuple, tail_position: tuple) -> bool:\n",
    "\t# if the position of the axes differ by at most one, return True\t\n",
    "\t# else return False\n",
    "\tif abs(head_position[0] - tail_position[0]) <= 1 \\\n",
    "\t\tand abs(head_position[1] - tail_position[1]) <= 1:\n",
    "\t\t\treturn True\n",
    "\treturn False\n",
    "\n",
    "\n",
    "def moved_x_axis(head_position: tuple, tail_position: tuple) -> bool:\n",
    "\tif head_position[1] == tail_position[1] \\\n",
    "\t\tand abs(head_position[0] - tail_position[0]) > 1:\n",
    "\t\t\treturn True\n",
    "\treturn False \n",
    "\n",
    "\n",
    "def moved_y_axis(head_position: tuple, tail_position: tuple) -> bool:\n",
    "\tif head_position[0] == tail_position[0] \\\n",
    "\t\tand abs(head_position[1] - tail_position[1]) > 2:\n",
    "\t\t\treturn True\n",
    "\treturn False\n",
    "\n"
   ]
  },
  {
   "cell_type": "code",
   "execution_count": 76,
   "metadata": {},
   "outputs": [],
   "source": [
    "def calculate_next_head_position(\n",
    "\t\tcurrent_head_position: tuple,\n",
    "\t\tdirection: str\n",
    "\t) -> tuple:\n",
    "\n",
    "\tnext_position = None\n",
    "\n",
    "\tif direction == \"L\":\n",
    "\t\tnext_position = (current_head_position[0]-1, current_head_position[1])\n",
    "\n",
    "\tif direction == \"R\":\n",
    "\t\tnext_position = (current_head_position[0]+1, current_head_position[1])\n",
    "\n",
    "\tif direction == \"U\":\n",
    "\t\tnext_position = (current_head_position[0], current_head_position[1]+1)\n",
    "\n",
    "\tif direction == \"D\":\n",
    "\t\tnext_position = (current_head_position[0], current_head_position[1]-1)\n",
    "\n",
    "\treturn next_position \n",
    "\n",
    "\n",
    "def calculate_next_tail_position(\n",
    "\t\tcurrent_head_position: tuple,\n",
    "\t\tnext_head_position: tuple, \n",
    "\t\tcurrent_tail_position: tuple\n",
    "\t) -> tuple:\n",
    "\n",
    "\tnext_position = None\n",
    "\n",
    "\t# head moved but not far enough for tail to change position\n",
    "\tif is_adjacent(next_head_position, current_tail_position):\n",
    "\t\tnext_position = current_tail_position\n",
    "\n",
    "\t# head moved far enough in the X axis for tail to follow\n",
    "\telif moved_x_axis(next_head_position, current_tail_position):\n",
    "\t\tnext_position = (int((current_tail_position[0] + next_head_position[0]) / 2), current_tail_position[1])\n",
    "\n",
    "\telif moved_y_axis(next_head_position, current_tail_position):\n",
    "\t\tnext_position = (current_tail_position[0], int((current_tail_position[1] + next_head_position[1]) / 2))\n",
    "\n",
    "\telse:\n",
    "\t\t# head and tail aren't adjacent and no longer in same row or column.\n",
    "\t\tx_delta = (current_tail_position[0] + next_head_position[0]) / 2\n",
    "\t\ty_delta = (current_tail_position[1] + next_head_position[1]) / 2\n",
    "\n",
    "\t\tnext_x = int(math.ceil(x_delta)) if x_delta >= 0 else math.floor(x_delta)\n",
    "\t\tnext_y = int(math.ceil(y_delta)) if y_delta >= 0 else math.floor(y_delta)\n",
    "\t\t\n",
    "\t\tnext_position = (next_x, next_y)\n",
    "\t\t# next_position = current_head_position\n",
    "\n",
    "\n",
    "\treturn next_position "
   ]
  },
  {
   "cell_type": "code",
   "execution_count": 77,
   "metadata": {},
   "outputs": [
    {
     "data": {
      "text/plain": [
       "6378"
      ]
     },
     "execution_count": 77,
     "metadata": {},
     "output_type": "execute_result"
    }
   ],
   "source": [
    "# part 1\n",
    "def count_positions_visited_by_tail(input_list: list) -> int:\n",
    "\t# starting position. Head and tail both overlap\n",
    "\thead_visited_positions = [(0, 0)]\n",
    "\ttail_visited_positions = [(0, 0)]\n",
    "\n",
    "\tfor entry in input_list:\n",
    "\t\tdirection = entry.split(\" \")[0]\n",
    "\t\tamount = int(entry.split(\" \")[1])\n",
    "\t\twhile amount:\n",
    "\t\t\tnext_head_position = calculate_next_head_position(\n",
    "\t\t\t\thead_visited_positions[-1],\n",
    "\t\t\t\tdirection\n",
    "\t\t\t)\n",
    "\n",
    "\t\t\tnext_tail_position = calculate_next_tail_position(\n",
    "\t\t\t\thead_visited_positions[-1],\n",
    "\t\t\t\tnext_head_position,\n",
    "\t\t\t\ttail_visited_positions[-1]\n",
    "\t\t\t)\n",
    "\n",
    "\t\t\thead_visited_positions.append(next_head_position)\t\n",
    "\t\t\ttail_visited_positions.append(next_tail_position)\n",
    "\n",
    "\t\t\tamount -= 1\n",
    "\n",
    "\t# return amount of positions visited by the tail at least once\n",
    "\treturn len(set(tail_visited_positions)) \n",
    "\n",
    "\n",
    "count_positions_visited_by_tail(puzzle_input)"
   ]
  },
  {
   "cell_type": "code",
   "execution_count": 80,
   "metadata": {},
   "outputs": [],
   "source": [
    "# part 2\n",
    "def count_positions_visited_by_end_of_rope(input_list: list) -> int:\n",
    "\t# rope consisting of 10 knots instead of 2 as in part 1\n",
    "\tknot_positions = [\n",
    "\t\t[(0, 0)],\n",
    "\t\t[(0, 0)],\n",
    "\t\t[(0, 0)],\n",
    "\t\t[(0, 0)],\n",
    "\t\t[(0, 0)],\n",
    "\t\t[(0, 0)],\n",
    "\t\t[(0, 0)],\n",
    "\t\t[(0, 0)],\n",
    "\t\t[(0, 0)],\n",
    "\t\t[(0, 0)]\n",
    "\t]\n",
    "\tfor entry in input_list:\n",
    "\t\tdirection = entry.split(\" \")[0]\n",
    "\t\tamount = int(entry.split(\" \")[1])\n",
    "\t\twhile amount:\n",
    "\t\t\tnext_head_position = calculate_next_head_position(\n",
    "\t\t\t\tknot_positions[0][-1],\n",
    "\t\t\t\tdirection\n",
    "\t\t\t)\t\n",
    "\t\t\tknot_positions[0].append(next_head_position)\n",
    "\t\t\t\n",
    "\t\t\tfor i in range(1, len(knot_positions)):\n",
    "\t\t\t\tnext_tail_position = calculate_next_tail_position(\n",
    "\t\t\t\t\tknot_positions[i-1][-2],\n",
    "\t\t\t\t\tknot_positions[i-1][-1],\n",
    "\t\t\t\t\tknot_positions[i][-1]\n",
    "\t\t\t\t)\n",
    "\t\t\t\tknot_positions[i].append(next_tail_position)\n",
    "\n",
    "\t\t\tamount -= 1\n",
    "\n",
    "\tprint([coords[-1] for coords in knot_positions])\n",
    "\n",
    "\treturn len(set(knot_positions[-1]))"
   ]
  },
  {
   "cell_type": "code",
   "execution_count": 83,
   "metadata": {},
   "outputs": [
    {
     "name": "stdout",
     "output_type": "stream",
     "text": [
      "[(-3, 8), (-2, 8), (-1, 8), (0, 8), (1, 8), (2, 8), (3, 8), (4, 8), (5, 7), (5, 6)]\n"
     ]
    },
    {
     "data": {
      "text/plain": [
       "7"
      ]
     },
     "execution_count": 83,
     "metadata": {},
     "output_type": "execute_result"
    }
   ],
   "source": [
    "test_input_3 = [\n",
    "\t\"R 5\",\n",
    "\t\"U 8\",\n",
    "\t\"L 8\"\n",
    "]\n",
    "\n",
    "count_positions_visited_by_end_of_rope(test_input_3)"
   ]
  },
  {
   "cell_type": "code",
   "execution_count": 53,
   "metadata": {},
   "outputs": [
    {
     "data": {
      "text/plain": [
       "-1"
      ]
     },
     "execution_count": 53,
     "metadata": {},
     "output_type": "execute_result"
    }
   ],
   "source": [
    "import math\n",
    "math.ceil(-0.5)\n",
    "math.floor(-0.3)"
   ]
  },
  {
   "cell_type": "code",
   "execution_count": null,
   "metadata": {},
   "outputs": [],
   "source": []
  }
 ],
 "metadata": {
  "kernelspec": {
   "display_name": "Python 3.10.8 64-bit",
   "language": "python",
   "name": "python3"
  },
  "language_info": {
   "codemirror_mode": {
    "name": "ipython",
    "version": 3
   },
   "file_extension": ".py",
   "mimetype": "text/x-python",
   "name": "python",
   "nbconvert_exporter": "python",
   "pygments_lexer": "ipython3",
   "version": "3.10.8 (main, Nov  1 2022, 14:18:21) [GCC 12.2.0]"
  },
  "orig_nbformat": 4,
  "vscode": {
   "interpreter": {
    "hash": "e7370f93d1d0cde622a1f8e1c04877d8463912d04d973331ad4851f04de6915a"
   }
  }
 },
 "nbformat": 4,
 "nbformat_minor": 2
}
