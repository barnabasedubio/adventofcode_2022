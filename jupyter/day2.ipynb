{
 "cells": [
  {
   "cell_type": "code",
   "execution_count": 44,
   "metadata": {},
   "outputs": [],
   "source": [
    "from aocd.models import Puzzle\n",
    "\n",
    "puzzle_input = Puzzle(2022,2).input_data.split(\"\\n\")\n",
    "test_input = [\n",
    "\t'A X',\n",
    "\t'B Y',\n",
    "\t'C Z',\n",
    "]\n",
    "\n",
    "test_input_2 = [\n",
    "\t'A Y',\n",
    "\t'B X',\n",
    "\t'C Z'\n",
    "]\n"
   ]
  },
  {
   "cell_type": "code",
   "execution_count": 28,
   "metadata": {},
   "outputs": [],
   "source": [
    "# shape map. Assigns a value to the shape selected by the player\n",
    "shape_map = {\n",
    "\t\"X\": 1,\n",
    "\t\"Y\": 2,\n",
    "\t\"Z\": 3\n",
    "}\n",
    "\n",
    "# result map. X/Y/Z are the player responses (rock, paper, scissors, respectively)\n",
    "result_map = {\n",
    "\t# rock\n",
    "\t\"A\": {\n",
    "\t\t\"X\": 3, # rock v. rock -> draw\n",
    "\t\t\"Y\": 6, # rock v. paper -> win\n",
    "\t\t\"Z\": 0, # rock v scissors -> loss\n",
    "\t},\n",
    "\t# paper\n",
    "\t\"B\": {\n",
    "\t\t\"X\": 0, # paper v rock -> loss \n",
    "\t\t\"Y\": 3, # paper v. paper -> draw,\n",
    "\t\t\"Z\": 6, # paper v. scissors -> win\n",
    "\t},\n",
    "\t# scissors\n",
    "\t\"C\": {\n",
    "\t\t\"X\": 6, # scissors v. rock -> win\n",
    "\t\t\"Y\": 0, # scissors v. paper -> loss\n",
    "\t\t\"Z\": 3, # scissors v. scissors -> draw\n",
    "\t}\n",
    "}\n",
    "\n",
    "# outcome_map. Assigns a desired outcome based on the shape chosen by the opponent\n",
    "outcome_map = {\n",
    "\t\"X\": \"loss\",\n",
    "\t\"Y\": \"draw\",\n",
    "\t\"Z\": \"win\"\n",
    "} "
   ]
  },
  {
   "cell_type": "code",
   "execution_count": 29,
   "metadata": {},
   "outputs": [],
   "source": [
    "# part 1\n",
    "def calculate_total_score(input_list):\n",
    "\ttotal = 0\n",
    "\tfor round in input_list:\n",
    "\t\topponent_shape = round.split(\" \")[0]\n",
    "\t\tplayer_shape = round.split(\" \")[1]\n",
    "\t\ttotal += shape_map.get(player_shape) + result_map.get(opponent_shape).get(player_shape)\n",
    "\n",
    "\treturn total "
   ]
  },
  {
   "cell_type": "code",
   "execution_count": 30,
   "metadata": {},
   "outputs": [
    {
     "data": {
      "text/plain": [
       "12535"
      ]
     },
     "execution_count": 30,
     "metadata": {},
     "output_type": "execute_result"
    }
   ],
   "source": [
    "calculate_total_score(puzzle_input)"
   ]
  },
  {
   "cell_type": "code",
   "execution_count": 37,
   "metadata": {},
   "outputs": [],
   "source": [
    "def calculate_player_shape(opponent_shape, desired_outcome): \n",
    "\tif outcome_map.get(desired_outcome) == \"loss\":\n",
    "\t\t# iterate through result map and select the player response that results in a loss for the player\n",
    "\t\tfor outcome in result_map.get(opponent_shape).items():\n",
    "\t\t\tif outcome[1] == 0: return outcome[0]\n",
    "\n",
    "\tif outcome_map.get(desired_outcome) == \"draw\":\n",
    "\t\tfor outcome in result_map.get(opponent_shape).items():\n",
    "\t\t\tif outcome[1] == 3: return outcome[0]\n",
    "\n",
    "\tif outcome_map.get(desired_outcome) == \"win\":\n",
    "\t\tfor outcome in result_map.get(opponent_shape).items():\n",
    "\t\t\tif outcome[1] == 6: return outcome[0]\n"
   ]
  },
  {
   "cell_type": "code",
   "execution_count": 46,
   "metadata": {},
   "outputs": [],
   "source": [
    "# part 2\n",
    "def calculate_total_score_2(input_list):\n",
    "\ttotal = 0\n",
    "\tfor round in input_list:\n",
    "\t\topponent_shape = round.split(\" \")[0]\n",
    "\t\tdesired_outcome = round.split(\" \")[1]\n",
    "\t\tplayer_shape = calculate_player_shape(opponent_shape, desired_outcome)\n",
    "\t\ttotal += shape_map.get(player_shape) + result_map.get(opponent_shape).get(player_shape)\n",
    "\treturn total"
   ]
  },
  {
   "cell_type": "code",
   "execution_count": 48,
   "metadata": {},
   "outputs": [
    {
     "data": {
      "text/plain": [
       "15457"
      ]
     },
     "execution_count": 48,
     "metadata": {},
     "output_type": "execute_result"
    }
   ],
   "source": [
    "calculate_total_score_2(puzzle_input)"
   ]
  }
 ],
 "metadata": {
  "kernelspec": {
   "display_name": "Python 3.10.8 64-bit",
   "language": "python",
   "name": "python3"
  },
  "language_info": {
   "codemirror_mode": {
    "name": "ipython",
    "version": 3
   },
   "file_extension": ".py",
   "mimetype": "text/x-python",
   "name": "python",
   "nbconvert_exporter": "python",
   "pygments_lexer": "ipython3",
   "version": "3.10.8"
  },
  "orig_nbformat": 4,
  "vscode": {
   "interpreter": {
    "hash": "e7370f93d1d0cde622a1f8e1c04877d8463912d04d973331ad4851f04de6915a"
   }
  }
 },
 "nbformat": 4,
 "nbformat_minor": 2
}
