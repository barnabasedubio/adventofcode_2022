{
 "cells": [
  {
   "cell_type": "code",
   "execution_count": 2,
   "metadata": {},
   "outputs": [],
   "source": [
    "from aocd.models import Puzzle\n",
    "\n",
    "puzzle_input = Puzzle(2022,4).input_data.split(\"\\n\")\n",
    "test_input = [\n",
    "\t\"2-4,6-8\",\n",
    "\t\"2-3,4-5\",\n",
    "\t\"5-7,7-9\",\n",
    "\t\"2-8,3-7\",\n",
    "\t\"6-6,4-6\",\n",
    "\t\"2-6,4-8\"\n",
    "]"
   ]
  },
  {
   "cell_type": "code",
   "execution_count": 12,
   "metadata": {},
   "outputs": [],
   "source": [
    "def intersection(list1, list2):\n",
    "\treturn list(set([item for item in list1 if item in list2]))\n",
    "\n",
    "def convert_range_to_list(input_range):\n",
    "\t# \"2-4\" -> [2, 3, 4]\n",
    "\tstart = int(input_range.split(\"-\")[0])\n",
    "\tend = int(input_range.split(\"-\")[1])\n",
    "\treturn [_ for _ in range(start, end+1)]"
   ]
  },
  {
   "cell_type": "code",
   "execution_count": 27,
   "metadata": {},
   "outputs": [
    {
     "name": "stdout",
     "output_type": "stream",
     "text": [
      "456\n",
      "808\n"
     ]
    }
   ],
   "source": [
    "# part 1\n",
    "def find_overlaps(input_list, part):\n",
    "\ttotal = 0\n",
    "\tfor assignment_pair in input_list:\n",
    "\t\tsections1 = convert_range_to_list(assignment_pair.split(\",\")[0])\n",
    "\t\tsections2 = convert_range_to_list(assignment_pair.split(\",\")[1])\n",
    "\t\tif part == 1:\n",
    "\t\t\tif len(intersection(sections1, sections2)) in (len(sections1), len(sections2)):\n",
    "\t\t\t\ttotal += 1 \n",
    "\t\tif part == 2:\n",
    "\t\t\tif len(intersection(sections1, sections2)):\n",
    "\t\t\t\ttotal += 1\n",
    "\n",
    "\treturn total\n",
    "\n",
    "# part 1\n",
    "print(find_overlaps(puzzle_input, 1))\n",
    "\n",
    "# part 2\n",
    "print(find_overlaps(puzzle_input, 2))"
   ]
  }
 ],
 "metadata": {
  "kernelspec": {
   "display_name": "Python 3.10.8 64-bit",
   "language": "python",
   "name": "python3"
  },
  "language_info": {
   "codemirror_mode": {
    "name": "ipython",
    "version": 3
   },
   "file_extension": ".py",
   "mimetype": "text/x-python",
   "name": "python",
   "nbconvert_exporter": "python",
   "pygments_lexer": "ipython3",
   "version": "3.10.8"
  },
  "orig_nbformat": 4,
  "vscode": {
   "interpreter": {
    "hash": "e7370f93d1d0cde622a1f8e1c04877d8463912d04d973331ad4851f04de6915a"
   }
  }
 },
 "nbformat": 4,
 "nbformat_minor": 2
}
