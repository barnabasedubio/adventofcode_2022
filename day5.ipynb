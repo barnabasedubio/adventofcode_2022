{
 "cells": [
  {
   "cell_type": "code",
   "execution_count": 176,
   "metadata": {},
   "outputs": [],
   "source": [
    "from aocd.models import Puzzle\n",
    "from collections import deque\n",
    "\n",
    "puzzle_input = Puzzle(2022,5).input_data\n",
    "crates = puzzle_input.split(\"\\n\\n\")[0]\n",
    "instructions = puzzle_input.split(\"\\n\\n\")[1]\n",
    "\n",
    "test_crates = \\\n",
    "\"\"\"    [D]    \n",
    "[N] [C]    \n",
    "[Z] [M] [P]\n",
    " 1   2   3 \"\"\" \n",
    "\n",
    "test_instructions = \\\n",
    "\"\"\"move 1 from 2 to 1\n",
    "move 3 from 1 to 3\n",
    "move 2 from 2 to 1\n",
    "move 1 from 1 to 2\"\"\"\n"
   ]
  },
  {
   "cell_type": "code",
   "execution_count": 177,
   "metadata": {},
   "outputs": [],
   "source": [
    "def create_list_of_stacks(input_string: str) -> list:\n",
    "\tinput_list = input_string \\\n",
    "\t\t.replace(\"    \", \"0\") \\\n",
    "\t\t.replace(\"[\",\"\") \\\n",
    "\t\t.replace(\"]\",\"\") \\\n",
    "\t\t.replace(\" \",\"\") \\\n",
    "\t\t.split(\"\\n\") \n",
    "\n",
    "\tinput_list = input_list[:-1] # no need for crate numbers\n",
    "\tinput_list = [list(item) for item in input_list]\n",
    "\n",
    "\t# transpose list\n",
    "\tinput_list = [list(item) for item in zip(*input_list)]\n",
    "\t# remove zeroes\n",
    "\tinput_list_non_zeros = []\n",
    "\tfor item in input_list:\n",
    "\t\tif '0' in item:\n",
    "\t\t\tinput_list_non_zeros.append([i for i in item if i != '0'])\n",
    "\t\telse:\n",
    "\t\t\tinput_list_non_zeros.append(item)\n",
    "\n",
    "\tinput_list = [deque(item) for item in input_list_non_zeros]\n",
    "\n",
    "\treturn input_list"
   ]
  },
  {
   "cell_type": "code",
   "execution_count": 178,
   "metadata": {},
   "outputs": [],
   "source": [
    "def rearrange_crates(crates: str, instructions: str, part) -> str:\n",
    "\n",
    "\tcrates = create_list_of_stacks(crates)\n",
    "\n",
    "\tfor instruction in instructions.split(\"\\n\"):\n",
    "\t\tinstruction = instruction.split(\" \")\n",
    "\t\tamount = int(instruction[1])\n",
    "\t\tfrom_index = int(instruction[3]) - 1 \n",
    "\t\tto_index = int(instruction[5]) - 1\n",
    "\t\tif part == 1:\n",
    "\t\t\twhile amount:\n",
    "\t\t\t\tpopped_element = crates[from_index].popleft()\n",
    "\t\t\t\tcrates[to_index].appendleft(popped_element)\n",
    "\t\t\t\tamount -= 1\n",
    "\t\t\n",
    "\t\tif part == 2:\n",
    "\t\t\tpopped_elements = list(crates[from_index])[:amount]\n",
    "\t\t\tfor _ in range(amount): crates[from_index].popleft()\n",
    "\t\t\tcrates[to_index] = deque(popped_elements + list(crates[to_index]))\n",
    "\t\n",
    "\tresult = \"\"\n",
    "\tfor item in crates:\n",
    "\t\tresult += item.popleft()\n",
    "\n",
    "\treturn result"
   ]
  },
  {
   "cell_type": "code",
   "execution_count": 180,
   "metadata": {},
   "outputs": [
    {
     "name": "stdout",
     "output_type": "stream",
     "text": [
      "QNNTGTPFN\n",
      "GGNPJBTTR\n"
     ]
    }
   ],
   "source": [
    "# part 1\n",
    "print(rearrange_crates(crates, instructions, 1))\n",
    "# part 2\n",
    "print(rearrange_crates(crates, instructions, 2))"
   ]
  }
 ],
 "metadata": {
  "kernelspec": {
   "display_name": "Python 3.10.8 64-bit",
   "language": "python",
   "name": "python3"
  },
  "language_info": {
   "codemirror_mode": {
    "name": "ipython",
    "version": 3
   },
   "file_extension": ".py",
   "mimetype": "text/x-python",
   "name": "python",
   "nbconvert_exporter": "python",
   "pygments_lexer": "ipython3",
   "version": "3.10.8"
  },
  "orig_nbformat": 4,
  "vscode": {
   "interpreter": {
    "hash": "e7370f93d1d0cde622a1f8e1c04877d8463912d04d973331ad4851f04de6915a"
   }
  }
 },
 "nbformat": 4,
 "nbformat_minor": 2
}
