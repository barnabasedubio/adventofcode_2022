{
 "cells": [
  {
   "cell_type": "code",
   "execution_count": 20,
   "metadata": {},
   "outputs": [],
   "source": [
    "from aocd.models import Puzzle\n",
    "from uuid import uuid1\n",
    "\n",
    "puzzle_input = Puzzle(2022,7).input_data.split(\"\\n\")\n",
    "test_input = [\n",
    "\t\"$ cd /\",\n",
    "\t\"$ ls\",\n",
    "\t\"dir a\",\n",
    "\t\"14848514 b.txt\",\n",
    "\t\"8504156 c.dat\",\n",
    "\t\"dir d\",\n",
    "\t\"$ cd a\",\n",
    "\t\"$ ls\",\n",
    "\t\"dir e\",\n",
    "\t\"29116 f\",\n",
    "\t\"2557 g\",\n",
    "\t\"62596 h.lst\",\n",
    "\t\"$ cd e\",\n",
    "\t\"$ ls\",\n",
    "\t\"584 i\",\n",
    "\t\"$ cd ..\",\n",
    "\t\"$ cd ..\",\n",
    "\t\"$ cd d\",\n",
    "\t\"$ ls\",\n",
    "\t\"4060174 j\",\n",
    "\t\"8033020 d.log\",\n",
    "\t\"5626152 d.ext\",\n",
    "\t\"7214296 k\",\n",
    "]"
   ]
  },
  {
   "cell_type": "code",
   "execution_count": 21,
   "metadata": {},
   "outputs": [],
   "source": [
    "class Directory:\n",
    "\tdef __init__(self, name:str, parent:object, size=0):\n",
    "\t\tself.id = uuid1()\n",
    "\t\tself.name = name\n",
    "\t\tself.parent = parent\n",
    "\t\tself.size = size"
   ]
  },
  {
   "cell_type": "code",
   "execution_count": 22,
   "metadata": {},
   "outputs": [],
   "source": [
    "def propagate_size(size: int, directory: object) -> None:\n",
    "\tdirectory.size += size\n",
    "\tif not directory.parent: return\n",
    "\telse: propagate_size(size, directory.parent)"
   ]
  },
  {
   "cell_type": "code",
   "execution_count": 28,
   "metadata": {},
   "outputs": [],
   "source": [
    "list_of_directories = []"
   ]
  },
  {
   "cell_type": "code",
   "execution_count": 24,
   "metadata": {},
   "outputs": [],
   "source": [
    "\n",
    "# part 1\n",
    "def count_directory_size(input_list: list) -> int:\n",
    "\tparent_directory = None\n",
    "\tfor item in input_list:\n",
    "\t\tif item.startswith(\"$\"):\n",
    "\t\t\t# remove \"$ \" prefix\n",
    "\t\t\titem = item[2:]\n",
    "\t\t\tif len(item.split(\" \")) == 2:\n",
    "\t\t\t\t# cd <arg>\n",
    "\t\t\t\targument = item.split(\" \")[1]\n",
    "\t\t\t\tif argument == \"..\":\n",
    "\t\t\t\t\t# navigate to parent\n",
    "\t\t\t\t\tparent_directory = parent_directory.parent\n",
    "\t\t\t\telse:\n",
    "\t\t\t\t\tnew_directory = Directory(argument, parent_directory)\n",
    "\t\t\t\t\tlist_of_directories.append(new_directory)\n",
    "\t\t\t\t\tparent_directory = new_directory\n",
    "\n",
    "\t\t\telse: continue # no need to do anything when the command is \"$ ls \"\n",
    "\n",
    "\t\telse:\n",
    "\t\t\tif item.startswith(\"dir\"): continue # will be handled for when cd-ing into that directory\n",
    "\t\t\tsize = int(item.split(\" \")[0])\n",
    "\t\t\tpropagate_size(size, parent_directory)\n",
    "\n",
    "\treturn sum([x.size for x in list_of_directories if x.size <= 100000])"
   ]
  },
  {
   "cell_type": "code",
   "execution_count": 29,
   "metadata": {},
   "outputs": [
    {
     "data": {
      "text/plain": [
       "1453349"
      ]
     },
     "execution_count": 29,
     "metadata": {},
     "output_type": "execute_result"
    }
   ],
   "source": [
    "count_directory_size(puzzle_input)"
   ]
  },
  {
   "cell_type": "code",
   "execution_count": 30,
   "metadata": {},
   "outputs": [],
   "source": [
    "# part 2\n",
    "def find_smallest_sufficient_directory() -> int:\n",
    "\ttotal_space_amount = 70000000\n",
    "\trequired_unused_space_amount = 30000000\n",
    "\t# there exists only one root directory (/), containing the total used space\n",
    "\toccupied_space_amount = [x for x in list_of_directories if x.name == \"/\"][0].size\n",
    "\tcurrent_unused_space_amount = total_space_amount - occupied_space_amount\n",
    "\tadditional_space_required = required_unused_space_amount - current_unused_space_amount\n",
    "\t# return smallest directory which is still big enough to reach the required unused space amount if deleted\n",
    "\treturn sorted([x.size for x in list_of_directories if x.size >= additional_space_required])[0]\n"
   ]
  },
  {
   "cell_type": "code",
   "execution_count": 31,
   "metadata": {},
   "outputs": [
    {
     "data": {
      "text/plain": [
       "2948823"
      ]
     },
     "execution_count": 31,
     "metadata": {},
     "output_type": "execute_result"
    }
   ],
   "source": [
    "find_smallest_sufficient_directory()"
   ]
  }
 ],
 "metadata": {
  "kernelspec": {
   "display_name": "Python 3.10.8 64-bit",
   "language": "python",
   "name": "python3"
  },
  "language_info": {
   "codemirror_mode": {
    "name": "ipython",
    "version": 3
   },
   "file_extension": ".py",
   "mimetype": "text/x-python",
   "name": "python",
   "nbconvert_exporter": "python",
   "pygments_lexer": "ipython3",
   "version": "3.10.8"
  },
  "orig_nbformat": 4,
  "vscode": {
   "interpreter": {
    "hash": "e7370f93d1d0cde622a1f8e1c04877d8463912d04d973331ad4851f04de6915a"
   }
  }
 },
 "nbformat": 4,
 "nbformat_minor": 2
}
